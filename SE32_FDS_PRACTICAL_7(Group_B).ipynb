{
  "nbformat": 4,
  "nbformat_minor": 0,
  "metadata": {
    "colab": {
      "name": "SE32 FDS PRACTICAL 7(Group-B)",
      "provenance": [],
      "collapsed_sections": [],
      "toc_visible": true,
      "include_colab_link": true
    },
    "kernelspec": {
      "display_name": "Python 3",
      "name": "python3"
    }
  },
  "cells": [
    {
      "cell_type": "markdown",
      "metadata": {
        "id": "view-in-github",
        "colab_type": "text"
      },
      "source": [
        "<a href=\"https://colab.research.google.com/github/ZIDANE2003/FDS-PRACTICAL-7-Group-B-/blob/main/SE32_FDS_PRACTICAL_7(Group_B).ipynb\" target=\"_parent\"><img src=\"https://colab.research.google.com/assets/colab-badge.svg\" alt=\"Open In Colab\"/></a>"
      ]
    },
    {
      "cell_type": "code",
      "metadata": {
        "id": "os59Z9yPrTqR",
        "colab": {
          "base_uri": "https://localhost:8080/"
        },
        "outputId": "af63a760-f8da-4275-a3fe-20408830a1a3"
      },
      "source": [
        "\n",
        "stud=[]\n",
        "n=int(input(\"No of students in class:\"))\n",
        "for i in range(n):\n",
        "  a=int(input(\"Enter roll no:\"))\n",
        "  stud.append(a)\n",
        "#linear search\n",
        "count=0\n",
        "b=int(input(\"Enter roll no for searcing if student attended training or not:\"))\n",
        "for i in range(len(stud)):\n",
        "  if (b==stud[i]):\n",
        "    print(b,\":This student had the attend  training  program\")\n",
        "else:\n",
        "    print(\"This student had not attended the  training  program\")  \n",
        "print()     \n",
        "# sentinal search\n",
        "d=int(input(\"Enter roll no for searcing if student attended training or not:\"))    \n",
        "last=stud[n-1]\n",
        "stud[n-1]=d\n",
        "i=0\n",
        "while (stud[i]!=d):\n",
        "  i=i+1\n",
        "stud[n-1]=last \n",
        "if ((i<n-1) or (stud[n-1]==d)):\n",
        "  print(d,\":This student had the attend  training  program\",d) \n",
        "else:\n",
        "  print(\"This student had not attended the  training  program\") \n",
        "print()  \n",
        "# Binary serach \n",
        "e=int(input(\"Enter roll no for searcing if student attended training or not:\"))\n",
        "def binary_sear(stud,n,e):\n",
        "  i=0\n",
        "  j=n-1\n",
        "  flag=0\n",
        "  while i<j and flag==0:\n",
        "    mid=(i+j)//2\n",
        "    if stud[mid]==e:\n",
        "      flag=1\n",
        "      pos=mid+1\n",
        "    if stud[mid]>e:  \n",
        "      j=mid-1\n",
        "    if stud[mid]<e:  \n",
        "      i=mid+1\n",
        "  if flag==1:\n",
        "    print(e,\":This student had  attended the  training  program\")  \n",
        "  else:\n",
        "    print(\"This student had not attended the  training  program\")\n",
        "binary_sear(stud,n,e)    \n",
        "print()\n",
        "# Fibonocci search\n",
        "f=int(input(\"Enter roll no for searcing if student attended training or not:\"))\n",
        "m1=1\n",
        "m2=0\n",
        "m=m1+m2\n",
        "while (m<n):\n",
        "  m2=m1\n",
        "  m1=m\n",
        "  m=m1+m2\n",
        "flag=0\n",
        "offset=-1\n",
        "while (m>1):\n",
        "  i=offset+m2\n",
        "  if(stud[i]<f):\n",
        "    m=m1\n",
        "    m1=m2\n",
        "    m=m-m1\n",
        "    offset=i\n",
        "  elif(stud[i]>f):\n",
        "    m=m2\n",
        "    m1=m1-m\n",
        "    m2=m-m1\n",
        "  else:\n",
        "    flag=1\n",
        "    print(f,\"This student had  attended the  training  program\")  \n",
        "    break\n",
        "if(flag==0):\n",
        "  print(\"NOT\")    \n",
        "\n",
        "\n",
        "\n",
        "\n",
        "  \n",
        "\n",
        "\n",
        "\n",
        "\n",
        "\n",
        "\n",
        "\n",
        " \n",
        "\n",
        "   \n",
        "\n"
      ],
      "execution_count": 15,
      "outputs": [
        {
          "output_type": "stream",
          "name": "stdout",
          "text": [
            "No of students in class:3\n",
            "Enter roll no:22\n",
            "Enter roll no:21\n",
            "Enter roll no:19\n",
            "Enter roll no for searcing if student attended training or not:22\n",
            "22 :This student had the attend  training  program\n",
            "This student had not attended the  training  program\n",
            "\n",
            "Enter roll no for searcing if student attended training or not:19\n",
            "19 :This student had the attend  training  program 19\n",
            "\n",
            "Enter roll no for searcing if student attended training or not:2\n",
            "This student had not attended the  training  program\n",
            "\n",
            "Enter roll no for searcing if student attended training or not:22\n",
            "22 This student had  attended the  training  program\n"
          ]
        }
      ]
    }
  ]
}